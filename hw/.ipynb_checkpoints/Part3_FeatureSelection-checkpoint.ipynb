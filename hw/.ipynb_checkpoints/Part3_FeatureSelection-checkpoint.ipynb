{
 "cells": [
  {
   "cell_type": "code",
   "execution_count": 1,
   "metadata": {},
   "outputs": [
    {
     "name": "stderr",
     "output_type": "stream",
     "text": [
      "Using TensorFlow backend.\n"
     ]
    }
   ],
   "source": [
    "import warnings \n",
    "warnings.filterwarnings('ignore')\n",
    "\n",
    "import h5py\n",
    "import numpy as np\n",
    "import matplotlib.pyplot as plt \n",
    "\n",
    "import sklearn \n",
    "from sklearn import datasets\n",
    "import pandas as pd\n",
    "from sklearn.model_selection import train_test_split\n",
    "from sklearn.preprocessing import MinMaxScaler\n",
    "\n",
    "from keras.models import Sequential\n",
    "from keras.utils import to_categorical\n",
    "from keras import layers\n",
    "from keras import models \n",
    "from keras.layers import Dense\n",
    "from keras import optimizers \n",
    "from keras.callbacks import ModelCheckpoint, EarlyStopping\n",
    "\n",
    "from sklearn.ensemble import RandomForestClassifier\n",
    "from sklearn.feature_selection import RFE\n",
    "import math\n",
    "\n",
    "import tensorflow as tf"
   ]
  },
  {
   "cell_type": "code",
   "execution_count": 2,
   "metadata": {},
   "outputs": [],
   "source": [
    "def dataCollection(): \n",
    "    print(\"Data Collection\")\n",
    "    wine = sklearn.datasets.load_wine()\n",
    "    \n",
    "    df = pd.DataFrame(wine.data)\n",
    "    df.columns = wine.feature_names\n",
    "    df[\"class\"] = wine.target\n",
    "    \n",
    "    labels = df.loc[:,[\"class\"]] \n",
    "    features = df.drop([\"class\"],axis=1)\n",
    "    \n",
    "    return features, labels"
   ]
  },
  {
   "cell_type": "markdown",
   "metadata": {},
   "source": [
    "## 2. Use 20%, 30%, 40%, 60%, 60%, 70%, 80%, 90%, and 100% of randomly selected features to train the neural network and test on it respectively. "
   ]
  },
  {
   "cell_type": "markdown",
   "metadata": {},
   "source": [
    "### 2.1 We will use a random forset classifier as our Recursive Feature Elimanation model "
   ]
  },
  {
   "cell_type": "code",
   "execution_count": 12,
   "metadata": {},
   "outputs": [],
   "source": [
    "def rfe(percentage, features, labels): \n",
    "    '''\n",
    "    Applies recursive feature elimination to find percentage of features to use \n",
    "    Returns selected features \n",
    "    '''\n",
    "    print(\"RFE\")\n",
    "    rfc = RandomForestClassifier(random_state = 101)\n",
    "    print(math.floor(percentage*13))\n",
    "    rfe = RFE(rfc, n_features_to_select = math.floor(percentage*13))\n",
    "    fit = rfe.fit(features, labels)\n",
    "    \n",
    "    print(\"Number of Features\", fit.n_features_)\n",
    "    print(\"Ranking of Features\", fit.ranking_)\n",
    "    print(\"Selected Features\", fit.support_)\n",
    "    \n",
    "    # selected features from original dataset  \n",
    "    features = features.loc[:, list(fit.support_)] \n",
    "    \n",
    "    return features "
   ]
  },
  {
   "cell_type": "code",
   "execution_count": 4,
   "metadata": {},
   "outputs": [],
   "source": [
    "def dataPrep(features, labels):\n",
    "    '''\n",
    "    Prepares features and labels into its respective sets \n",
    "    '''\n",
    "    print(\"dataPrep\")\n",
    "    xtrain, xtest, ytrain, ytest = train_test_split(features, labels)\n",
    "    \n",
    "    #convert labels to categorical \n",
    "    ytrain = to_categorical(ytrain, 3)\n",
    "    ytest = to_categorical(ytest,3)\n",
    "    \n",
    "    # Scale data \n",
    "    scale = MinMaxScaler(feature_range=(0,1))\n",
    "    xtrain = scale.fit_transform(xtrain)\n",
    "    xtest = scale.fit_transform(xtest)\n",
    "    return xtrain, xtest, ytrain, ytest "
   ]
  },
  {
   "cell_type": "code",
   "execution_count": 5,
   "metadata": {},
   "outputs": [],
   "source": [
    "def trainModel(xtrain, ytrain):\n",
    "    '''\n",
    "    Builds and runs training model \n",
    "    '''\n",
    "    print(\"Training the Model\")\n",
    "    \n",
    "    model = Sequential()\n",
    "    model.add(Dense(10, input_dim=xtrain.shape[1],activation='relu'))\n",
    "    model.add(Dense(8, activation='relu'))\n",
    "    model.add(Dense(6, activation='relu'))\n",
    "    model.add(Dense(6, activation='relu'))\n",
    "    model.add(Dense(4, activation='relu'))\n",
    "    model.add(Dense(3, activation='softmax'))\n",
    "    \n",
    "    model.compile(loss=\"categorical_crossentropy\", optimizer = optimizers.RMSprop(lr = 1e-3), metrics = [\"acc\"])\n",
    "    \n",
    "    # Save weights \n",
    "    checkpoint = ModelCheckpoint(\"model_part3.hdf5\", monitor=\"loss\", verbose=1, save_best_only = True, mode=\"auto\", period=1)\n",
    "    \n",
    "    # Apply early stopping to prevent overfitting \n",
    "    monitor = EarlyStopping(monitor='val_loss', min_delta=1e-3, patience=5, verbose=0, mode='auto',restore_best_weights=True)\n",
    "    \n",
    "    # Run Model \n",
    "    history = model.fit(xtrain, ytrain, batch_size=50, epochs=2000, verbose =0, validation_split=0.3, callbacks=[checkpoint,monitor])\n",
    "    "
   ]
  },
  {
   "cell_type": "code",
   "execution_count": 6,
   "metadata": {},
   "outputs": [],
   "source": [
    "def testModel(xtest, ytest): \n",
    "    '''\n",
    "    Builds and runs testing model \n",
    "    '''\n",
    "    print(\"Testing the model\")\n",
    "    \n",
    "    evalModel = Sequential()\n",
    "    evalModel.add(Dense(10, input_dim=xtest.shape[1],activation='relu'))\n",
    "    evalModel.add(Dense(8, activation='relu'))\n",
    "    evalModel.add(Dense(6, activation='relu'))\n",
    "    evalModel.add(Dense(6, activation='relu'))\n",
    "    evalModel.add(Dense(4, activation='relu'))\n",
    "    evalModel.add(Dense(3, activation='softmax'))\n",
    "\n",
    "\n",
    "    evalModel.load_weights('model_part3.hdf5')\n",
    "    evalModel.compile(loss=\"categorical_crossentropy\", optimizer = optimizers.RMSprop(lr = 1e-3), metrics = [\"acc\"])\n",
    "    \n",
    "    lossAndAcc = evalModel.evaluate(xtest, ytest)\n",
    "\n",
    "    return lossAndAcc[1]"
   ]
  },
  {
   "cell_type": "code",
   "execution_count": 19,
   "metadata": {},
   "outputs": [],
   "source": [
    "def main(percent_features, accuracy): \n",
    "    '''\n",
    "    Driver for program \n",
    "    '''\n",
    "    features, labels = dataCollection()\n",
    "   \n",
    "    for i in range(len(percent_features)): \n",
    "        print(\"====================================================\")\n",
    "        print(\"Percent Features \", percent_features[i])\n",
    " \n",
    "        \n",
    "        # Call Recursive Feature Elimation given percent features \n",
    "        new_features = rfe(percent_features[i], features, labels)\n",
    "        \n",
    "        # Split features and labels \n",
    "        xtrain, xtest, ytrain, ytest = dataPrep(new_features, labels)\n",
    "        \n",
    "        # Train Model \n",
    "        trainModel(xtrain, ytrain)\n",
    "        \n",
    "        # Test Model\n",
    "        curr_acc = testModel(xtest, ytest)\n",
    "        \n",
    "        # Add accuracy to our list \n",
    "        accuracy.append(curr_acc)\n",
    "        print(\"====================================================\\n\")\n",
    "\n",
    "    \n",
    "    return accuracy\n"
   ]
  },
  {
   "cell_type": "code",
   "execution_count": 20,
   "metadata": {},
   "outputs": [
    {
     "name": "stdout",
     "output_type": "stream",
     "text": [
      "Data Collection\n",
      "====================================================\n",
      "Percent Features  0.2\n",
      "RFE\n",
      "2\n",
      "Number of Features 2\n",
      "Ranking of Features [ 4  8 11  9  7  6  1 12 10  1  5  3  2]\n",
      "Selected Features [False False False False False False  True False False  True False False\n",
      " False]\n",
      "====================================================\n",
      "Percent Features  0.3\n",
      "RFE\n",
      "3\n",
      "Number of Features 3\n",
      "Ranking of Features [ 3  7 10  8  6  5  1 11  9  1  4  2  1]\n",
      "Selected Features [False False False False False False  True False False  True False False\n",
      "  True]\n",
      "====================================================\n",
      "Percent Features  0.4\n",
      "RFE\n",
      "5\n",
      "Number of Features 5\n",
      "Ranking of Features [1 5 8 6 4 3 1 9 7 1 2 1 1]\n",
      "Selected Features [ True False False False False False  True False False  True False  True\n",
      "  True]\n",
      "====================================================\n",
      "Percent Features  0.5\n",
      "RFE\n",
      "6\n",
      "Number of Features 6\n",
      "Ranking of Features [1 4 7 5 3 2 1 8 6 1 1 1 1]\n",
      "Selected Features [ True False False False False False  True False False  True  True  True\n",
      "  True]\n",
      "====================================================\n",
      "Percent Features  0.6\n",
      "RFE\n",
      "7\n",
      "Number of Features 7\n",
      "Ranking of Features [1 3 6 4 2 1 1 7 5 1 1 1 1]\n",
      "Selected Features [ True False False False False  True  True False False  True  True  True\n",
      "  True]\n",
      "====================================================\n",
      "Percent Features  0.7\n",
      "RFE\n",
      "9\n",
      "Number of Features 9\n",
      "Ranking of Features [1 1 4 2 1 1 1 5 3 1 1 1 1]\n",
      "Selected Features [ True  True False False  True  True  True False False  True  True  True\n",
      "  True]\n",
      "====================================================\n",
      "Percent Features  0.8\n",
      "RFE\n",
      "10\n",
      "Number of Features 10\n",
      "Ranking of Features [1 1 3 1 1 1 1 4 2 1 1 1 1]\n",
      "Selected Features [ True  True False  True  True  True  True False False  True  True  True\n",
      "  True]\n",
      "====================================================\n",
      "Percent Features  0.9\n",
      "RFE\n",
      "11\n",
      "Number of Features 11\n",
      "Ranking of Features [1 1 2 1 1 1 1 3 1 1 1 1 1]\n",
      "Selected Features [ True  True False  True  True  True  True False  True  True  True  True\n",
      "  True]\n",
      "====================================================\n",
      "Percent Features  1\n",
      "RFE\n",
      "13\n",
      "Number of Features 13\n",
      "Ranking of Features [1 1 1 1 1 1 1 1 1 1 1 1 1]\n",
      "Selected Features [ True  True  True  True  True  True  True  True  True  True  True  True\n",
      "  True]\n"
     ]
    }
   ],
   "source": [
    "percent_features = [0.20, 0.3, 0.4, 0.5, 0.6, 0.7, 0.8, 0.9, 1]\n",
    "accuracy = []\n",
    "\n",
    "acc = main(percent_features, accuracy)"
   ]
  },
  {
   "cell_type": "code",
   "execution_count": 9,
   "metadata": {},
   "outputs": [
    {
     "data": {
      "image/png": "[encoded data removed]",
      "text/plain": [
       "<Figure size 432x288 with 1 Axes>"
      ]
     },
     "metadata": {
      "needs_background": "light"
     },
     "output_type": "display_data"
    }
   ],
   "source": [
    "plt.plot(percent_features, acc)\n",
    "plt.xlabel(\"Percent Features\")\n",
    "plt.ylabel(\"Accuracy\")\n",
    "plt.title(\"Percent Features vs Accuracy\")\n",
    "plt.show()"
   ]
  }
 ],
 "metadata": {
  "kernelspec": {
   "display_name": "Python 3",
   "language": "python",
   "name": "python3"
  },
  "language_info": {
   "codemirror_mode": {
    "name": "ipython",
    "version": 3
   },
   "file_extension": ".py",
   "mimetype": "text/x-python",
   "name": "python",
   "nbconvert_exporter": "python",
   "pygments_lexer": "ipython3",
   "version": "3.7.1"
  }
 },
 "nbformat": 4,
 "nbformat_minor": 2
}
