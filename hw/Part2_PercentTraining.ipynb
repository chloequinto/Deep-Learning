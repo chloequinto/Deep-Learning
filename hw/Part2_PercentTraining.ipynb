{
 "cells": [
  {
   "cell_type": "markdown",
   "metadata": {},
   "source": [
    "# Part 2 Percentage of Training Dataset\n",
    "\n",
    "### Goal: \n",
    "Use 20%, 30%, 40%, 50%, 60%, 70%, 80%, 90%, and 100% of the total training dataset to train the neural work and test on it, respectively. You build 9 systems. Plot a graph where the axis indicate the percentage of the training set you used to train a system, and y-axis indicate the accuracy on the test set of each system  "
   ]
  },
  {
   "cell_type": "code",
   "execution_count": 2,
   "metadata": {},
   "outputs": [
    {
     "name": "stderr",
     "output_type": "stream",
     "text": [
      "Using TensorFlow backend.\n"
     ]
    }
   ],
   "source": [
    "import warnings \n",
    "warnings.filterwarnings('ignore') # feel free to comment this out \n",
    "\n",
    "import h5py\n",
    "import numpy as np\n",
    "import matplotlib.pyplot as plt \n",
    "\n",
    "import sklearn \n",
    "from sklearn import datasets\n",
    "import pandas as pd\n",
    "from sklearn.model_selection import train_test_split\n",
    "from sklearn.preprocessing import MinMaxScaler\n",
    "\n",
    "from keras.models import Sequential\n",
    "from keras.utils import to_categorical\n",
    "from keras import layers\n",
    "from keras import models \n",
    "from keras.layers import Dense\n",
    "from keras import optimizers \n",
    "from keras.callbacks import ModelCheckpoint, EarlyStopping\n",
    "\n",
    "from sklearn.ensemble import RandomForestClassifier\n",
    "from sklearn.feature_selection import RFE\n",
    "import math\n",
    "\n",
    "import tensorflow as tf"
   ]
  },
  {
   "cell_type": "code",
   "execution_count": null,
   "metadata": {},
   "outputs": [],
   "source": [
    "def dataCollection(): \n",
    "    print(\"Data Collection\")\n",
    "    wine = sklearn.datasets.load_wine()\n",
    "    \n",
    "    df = pd.DataFrame(wine.data)\n",
    "    df.columns = wine.feature_names\n",
    "    df[\"class\"] = wine.target\n",
    "    \n",
    "    labels = df.loc[:,[\"class\"]] \n",
    "    features = df.drop([\"class\"],axis=1)\n",
    "    \n",
    "    return features, labels"
   ]
  }
 ],
 "metadata": {
  "kernelspec": {
   "display_name": "Python 3",
   "language": "python",
   "name": "python3"
  },
  "language_info": {
   "codemirror_mode": {
    "name": "ipython",
    "version": 3
   },
   "file_extension": ".py",
   "mimetype": "text/x-python",
   "name": "python",
   "nbconvert_exporter": "python",
   "pygments_lexer": "ipython3",
   "version": "3.7.1"
  }
 },
 "nbformat": 4,
 "nbformat_minor": 2
}
